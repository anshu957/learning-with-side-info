{
 "cells": [
  {
   "cell_type": "code",
   "execution_count": null,
   "id": "e526b23a",
   "metadata": {},
   "outputs": [],
   "source": [
    ";cd \"/Users/bachirelkhadir/Documents/GitHub/learning-with-side-info/\""
   ]
  },
  {
   "cell_type": "code",
   "execution_count": null,
   "id": "2fc60247",
   "metadata": {},
   "outputs": [],
   "source": [
    "]activate env"
   ]
  },
  {
   "cell_type": "code",
   "execution_count": null,
   "id": "899c29a9",
   "metadata": {},
   "outputs": [],
   "source": [
    "0"
   ]
  },
  {
   "cell_type": "code",
   "execution_count": null,
   "id": "ead27cad",
   "metadata": {},
   "outputs": [],
   "source": []
  }
 ],
 "metadata": {
  "kernelspec": {
   "display_name": "Julia 1.6.3",
   "language": "julia",
   "name": "julia-1.6"
  }
 },
 "nbformat": 4,
 "nbformat_minor": 5
}
