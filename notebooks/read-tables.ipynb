{
 "cells": [
  {
   "cell_type": "code",
   "execution_count": 18,
   "id": "b9accfde",
   "metadata": {},
   "outputs": [],
   "source": [
    "import pandas as pd\n",
    "import seaborn as sns\n",
    "import matplotlib.pyplot as plt\n",
    "import numpy as np"
   ]
  },
  {
   "cell_type": "code",
   "execution_count": 53,
   "id": "a24cec23",
   "metadata": {},
   "outputs": [
    {
     "data": {
      "text/html": [
       "<div>\n",
       "<style scoped>\n",
       "    .dataframe tbody tr th:only-of-type {\n",
       "        vertical-align: middle;\n",
       "    }\n",
       "\n",
       "    .dataframe tbody tr th {\n",
       "        vertical-align: top;\n",
       "    }\n",
       "\n",
       "    .dataframe thead th {\n",
       "        text-align: right;\n",
       "    }\n",
       "</style>\n",
       "<table border=\"1\" class=\"dataframe\">\n",
       "  <thead>\n",
       "    <tr style=\"text-align: right;\">\n",
       "      <th></th>\n",
       "      <th>num_samples</th>\n",
       "      <th>test</th>\n",
       "      <th>deg</th>\n",
       "      <th>box</th>\n",
       "      <th>noise_level</th>\n",
       "      <th>side_info</th>\n",
       "      <th>num_trajectories</th>\n",
       "      <th>training</th>\n",
       "      <th>learned_p</th>\n",
       "      <th>samples</th>\n",
       "      <th>test_maxed</th>\n",
       "      <th>training_maxed</th>\n",
       "      <th>box_maxed</th>\n",
       "    </tr>\n",
       "  </thead>\n",
       "  <tbody>\n",
       "    <tr>\n",
       "      <th>0</th>\n",
       "      <td>10</td>\n",
       "      <td>NaN</td>\n",
       "      <td>2</td>\n",
       "      <td>2.191742e+02</td>\n",
       "      <td>0.001</td>\n",
       "      <td>0</td>\n",
       "      <td>1</td>\n",
       "      <td>0.000866</td>\n",
       "      <td>Polynomial{true, Float64}[-50.034792957039684x...</td>\n",
       "      <td>10</td>\n",
       "      <td>1.0</td>\n",
       "      <td>0.000866</td>\n",
       "      <td>1.0</td>\n",
       "    </tr>\n",
       "    <tr>\n",
       "      <th>1</th>\n",
       "      <td>10</td>\n",
       "      <td>NaN</td>\n",
       "      <td>3</td>\n",
       "      <td>3.082645e+07</td>\n",
       "      <td>0.001</td>\n",
       "      <td>0</td>\n",
       "      <td>1</td>\n",
       "      <td>NaN</td>\n",
       "      <td>Polynomial{true, Float64}[-2.422981044568624e6...</td>\n",
       "      <td>10</td>\n",
       "      <td>1.0</td>\n",
       "      <td>1.000000</td>\n",
       "      <td>1.0</td>\n",
       "    </tr>\n",
       "    <tr>\n",
       "      <th>2</th>\n",
       "      <td>10</td>\n",
       "      <td>NaN</td>\n",
       "      <td>4</td>\n",
       "      <td>4.850249e+03</td>\n",
       "      <td>0.001</td>\n",
       "      <td>0</td>\n",
       "      <td>1</td>\n",
       "      <td>NaN</td>\n",
       "      <td>Polynomial{true, Float64}[-5151.379407986941x₁...</td>\n",
       "      <td>10</td>\n",
       "      <td>1.0</td>\n",
       "      <td>1.000000</td>\n",
       "      <td>1.0</td>\n",
       "    </tr>\n",
       "    <tr>\n",
       "      <th>3</th>\n",
       "      <td>10</td>\n",
       "      <td>NaN</td>\n",
       "      <td>5</td>\n",
       "      <td>2.486413e+03</td>\n",
       "      <td>0.001</td>\n",
       "      <td>0</td>\n",
       "      <td>1</td>\n",
       "      <td>NaN</td>\n",
       "      <td>Polynomial{true, Float64}[-792.5643154741933x₁...</td>\n",
       "      <td>10</td>\n",
       "      <td>1.0</td>\n",
       "      <td>1.000000</td>\n",
       "      <td>1.0</td>\n",
       "    </tr>\n",
       "    <tr>\n",
       "      <th>4</th>\n",
       "      <td>10</td>\n",
       "      <td>NaN</td>\n",
       "      <td>6</td>\n",
       "      <td>1.218013e+03</td>\n",
       "      <td>0.001</td>\n",
       "      <td>0</td>\n",
       "      <td>1</td>\n",
       "      <td>NaN</td>\n",
       "      <td>Polynomial{true, Float64}[67.00458752891342x₁⁶...</td>\n",
       "      <td>10</td>\n",
       "      <td>1.0</td>\n",
       "      <td>1.000000</td>\n",
       "      <td>1.0</td>\n",
       "    </tr>\n",
       "  </tbody>\n",
       "</table>\n",
       "</div>"
      ],
      "text/plain": [
       "   num_samples  test  deg           box  noise_level  side_info  \\\n",
       "0           10   NaN    2  2.191742e+02        0.001          0   \n",
       "1           10   NaN    3  3.082645e+07        0.001          0   \n",
       "2           10   NaN    4  4.850249e+03        0.001          0   \n",
       "3           10   NaN    5  2.486413e+03        0.001          0   \n",
       "4           10   NaN    6  1.218013e+03        0.001          0   \n",
       "\n",
       "   num_trajectories  training  \\\n",
       "0                 1  0.000866   \n",
       "1                 1       NaN   \n",
       "2                 1       NaN   \n",
       "3                 1       NaN   \n",
       "4                 1       NaN   \n",
       "\n",
       "                                           learned_p  samples  test_maxed  \\\n",
       "0  Polynomial{true, Float64}[-50.034792957039684x...       10         1.0   \n",
       "1  Polynomial{true, Float64}[-2.422981044568624e6...       10         1.0   \n",
       "2  Polynomial{true, Float64}[-5151.379407986941x₁...       10         1.0   \n",
       "3  Polynomial{true, Float64}[-792.5643154741933x₁...       10         1.0   \n",
       "4  Polynomial{true, Float64}[67.00458752891342x₁⁶...       10         1.0   \n",
       "\n",
       "   training_maxed  box_maxed  \n",
       "0        0.000866        1.0  \n",
       "1        1.000000        1.0  \n",
       "2        1.000000        1.0  \n",
       "3        1.000000        1.0  \n",
       "4        1.000000        1.0  "
      ]
     },
     "execution_count": 53,
     "metadata": {},
     "output_type": "execute_result"
    }
   ],
   "source": [
    "results_disease = pd.read_json(\"../data/disease-table/results-2021-11-14--19-50.json\")\n",
    "results_disease[\"side_info\"] = results_disease.side_info.apply(len)\n",
    "results_disease[\"samples\"] = results_disease.num_trajectories * results_disease.num_samples\n",
    "for col in (\"test\", \"training\", \"box\"):\n",
    "    results_disease[col+\"_maxed\"] = np.where(results_disease[col] < 1., results_disease[col], 1.)\n",
    "\n",
    "results_disease.head()"
   ]
  },
  {
   "cell_type": "code",
   "execution_count": 54,
   "id": "256409fa",
   "metadata": {},
   "outputs": [
    {
     "data": {
      "text/plain": [
       "<AxesSubplot:xlabel='test_maxed', ylabel='Count'>"
      ]
     },
     "execution_count": 54,
     "metadata": {},
     "output_type": "execute_result"
    },
    {
     "data": {
      "image/png": "[encoded data removed]",
      "text/plain": [
       "<Figure size 432x288 with 1 Axes>"
      ]
     },
     "metadata": {
      "needs_background": "light"
     },
     "output_type": "display_data"
    }
   ],
   "source": [
    "sns.histplot(results_disease.test_maxed)"
   ]
  },
  {
   "cell_type": "code",
   "execution_count": 55,
   "id": "efbca574",
   "metadata": {},
   "outputs": [
    {
     "data": {
      "text/plain": [
       "<seaborn.axisgrid.FacetGrid at 0x7f617f9ab910>"
      ]
     },
     "execution_count": 55,
     "metadata": {},
     "output_type": "execute_result"
    },
    {
     "data": {
      "image/png": "[encoded data removed]",
      "text/plain": [
       "<Figure size 412.5x360 with 1 Axes>"
      ]
     },
     "metadata": {
      "needs_background": "light"
     },
     "output_type": "display_data"
    }
   ],
   "source": [
    "sns.catplot(x=\"deg\", y=\"box_maxed\",  hue=\"side_info\", \n",
    "            #kind=\"swarm\", \n",
    "            data=results_disease)"
   ]
  },
  {
   "cell_type": "code",
   "execution_count": 56,
   "id": "de0d6d82",
   "metadata": {},
   "outputs": [
    {
     "data": {
      "text/plain": [
       "<seaborn.axisgrid.FacetGrid at 0x7f617f97f850>"
      ]
     },
     "execution_count": 56,
     "metadata": {},
     "output_type": "execute_result"
    },
    {
     "data": {
      "image/png": "[encoded data removed]",
      "text/plain": [
       "<Figure size 412.5x360 with 1 Axes>"
      ]
     },
     "metadata": {
      "needs_background": "light"
     },
     "output_type": "display_data"
    }
   ],
   "source": [
    "sns.catplot(x=\"deg\", y=\"test_maxed\",  hue=\"side_info\", \n",
    "            #kind=\"swarm\", \n",
    "            data=results_disease)"
   ]
  },
  {
   "cell_type": "code",
   "execution_count": 57,
   "id": "0bbd04a1",
   "metadata": {},
   "outputs": [
    {
     "data": {
      "text/plain": [
       "<seaborn.axisgrid.FacetGrid at 0x7f617f93c8e0>"
      ]
     },
     "execution_count": 57,
     "metadata": {},
     "output_type": "execute_result"
    },
    {
     "data": {
      "image/png": "[encoded data removed]",
      "text/plain": [
       "<Figure size 412.5x360 with 1 Axes>"
      ]
     },
     "metadata": {
      "needs_background": "light"
     },
     "output_type": "display_data"
    }
   ],
   "source": [
    "sns.catplot(x=\"deg\", y=\"training_maxed\",  hue=\"side_info\", \n",
    "            #kind=\"swarm\", \n",
    "            data=results_disease)"
   ]
  },
  {
   "cell_type": "code",
   "execution_count": 59,
   "id": "82d3db16",
   "metadata": {},
   "outputs": [
    {
     "data": {
      "text/plain": [
       "<seaborn.axisgrid.FacetGrid at 0x7f617f6d8b50>"
      ]
     },
     "execution_count": 59,
     "metadata": {},
     "output_type": "execute_result"
    },
    {
     "data": {
      "image/png": "[encoded data removed]",
      "text/plain": [
       "<Figure size 360x360 with 1 Axes>"
      ]
     },
     "metadata": {
      "needs_background": "light"
     },
     "output_type": "display_data"
    }
   ],
   "source": [
    "sns.catplot(x=\"side_info\", y=\"training\",  hue=\"side_info\", \n",
    "            #kind=\"swarm\", \n",
    "            data=results_disease)"
   ]
  },
  {
   "cell_type": "code",
   "execution_count": 40,
   "id": "6fe1ec1b",
   "metadata": {},
   "outputs": [
    {
     "data": {
      "text/html": [
       "<div>\n",
       "<style scoped>\n",
       "    .dataframe tbody tr th:only-of-type {\n",
       "        vertical-align: middle;\n",
       "    }\n",
       "\n",
       "    .dataframe tbody tr th {\n",
       "        vertical-align: top;\n",
       "    }\n",
       "\n",
       "    .dataframe thead th {\n",
       "        text-align: right;\n",
       "    }\n",
       "</style>\n",
       "<table border=\"1\" class=\"dataframe\">\n",
       "  <thead>\n",
       "    <tr style=\"text-align: right;\">\n",
       "      <th></th>\n",
       "      <th>num_samples</th>\n",
       "      <th>test</th>\n",
       "      <th>deg</th>\n",
       "      <th>box</th>\n",
       "      <th>noise_level</th>\n",
       "      <th>side_info</th>\n",
       "      <th>num_trajectories</th>\n",
       "      <th>training</th>\n",
       "      <th>learned_p</th>\n",
       "      <th>samples</th>\n",
       "      <th>test_maxed</th>\n",
       "      <th>training_maxed</th>\n",
       "      <th>box_maxed</th>\n",
       "    </tr>\n",
       "  </thead>\n",
       "  <tbody>\n",
       "    <tr>\n",
       "      <th>0</th>\n",
       "      <td>10</td>\n",
       "      <td>NaN</td>\n",
       "      <td>2</td>\n",
       "      <td>1.317756e+02</td>\n",
       "      <td>0.001</td>\n",
       "      <td>0</td>\n",
       "      <td>1</td>\n",
       "      <td>NaN</td>\n",
       "      <td>Polynomial{true, Float64}[-50.034792957039684x...</td>\n",
       "      <td>10</td>\n",
       "      <td>100.000000</td>\n",
       "      <td>100.000000</td>\n",
       "      <td>100.000000</td>\n",
       "    </tr>\n",
       "    <tr>\n",
       "      <th>1</th>\n",
       "      <td>10</td>\n",
       "      <td>NaN</td>\n",
       "      <td>3</td>\n",
       "      <td>1.449294e+07</td>\n",
       "      <td>0.001</td>\n",
       "      <td>0</td>\n",
       "      <td>1</td>\n",
       "      <td>NaN</td>\n",
       "      <td>Polynomial{true, Float64}[-2.422981044568624e6...</td>\n",
       "      <td>10</td>\n",
       "      <td>100.000000</td>\n",
       "      <td>100.000000</td>\n",
       "      <td>100.000000</td>\n",
       "    </tr>\n",
       "    <tr>\n",
       "      <th>2</th>\n",
       "      <td>10</td>\n",
       "      <td>NaN</td>\n",
       "      <td>4</td>\n",
       "      <td>3.057689e+03</td>\n",
       "      <td>0.001</td>\n",
       "      <td>0</td>\n",
       "      <td>1</td>\n",
       "      <td>NaN</td>\n",
       "      <td>Polynomial{true, Float64}[-5151.379407986941x₁...</td>\n",
       "      <td>10</td>\n",
       "      <td>100.000000</td>\n",
       "      <td>100.000000</td>\n",
       "      <td>100.000000</td>\n",
       "    </tr>\n",
       "    <tr>\n",
       "      <th>3</th>\n",
       "      <td>10</td>\n",
       "      <td>NaN</td>\n",
       "      <td>5</td>\n",
       "      <td>1.390203e+03</td>\n",
       "      <td>0.001</td>\n",
       "      <td>0</td>\n",
       "      <td>1</td>\n",
       "      <td>NaN</td>\n",
       "      <td>Polynomial{true, Float64}[-792.5643154741933x₁...</td>\n",
       "      <td>10</td>\n",
       "      <td>100.000000</td>\n",
       "      <td>100.000000</td>\n",
       "      <td>100.000000</td>\n",
       "    </tr>\n",
       "    <tr>\n",
       "      <th>4</th>\n",
       "      <td>10</td>\n",
       "      <td>NaN</td>\n",
       "      <td>6</td>\n",
       "      <td>7.570635e+02</td>\n",
       "      <td>0.001</td>\n",
       "      <td>0</td>\n",
       "      <td>1</td>\n",
       "      <td>NaN</td>\n",
       "      <td>Polynomial{true, Float64}[67.00458752891342x₁⁶...</td>\n",
       "      <td>10</td>\n",
       "      <td>100.000000</td>\n",
       "      <td>100.000000</td>\n",
       "      <td>100.000000</td>\n",
       "    </tr>\n",
       "    <tr>\n",
       "      <th>...</th>\n",
       "      <td>...</td>\n",
       "      <td>...</td>\n",
       "      <td>...</td>\n",
       "      <td>...</td>\n",
       "      <td>...</td>\n",
       "      <td>...</td>\n",
       "      <td>...</td>\n",
       "      <td>...</td>\n",
       "      <td>...</td>\n",
       "      <td>...</td>\n",
       "      <td>...</td>\n",
       "      <td>...</td>\n",
       "      <td>...</td>\n",
       "    </tr>\n",
       "    <tr>\n",
       "      <th>715</th>\n",
       "      <td>40</td>\n",
       "      <td>16.829563</td>\n",
       "      <td>2</td>\n",
       "      <td>1.199480e-01</td>\n",
       "      <td>0.100</td>\n",
       "      <td>3</td>\n",
       "      <td>4</td>\n",
       "      <td>6.740353</td>\n",
       "      <td>Polynomial{true, Float64}[-0.07353000784774236...</td>\n",
       "      <td>160</td>\n",
       "      <td>16.829563</td>\n",
       "      <td>6.740353</td>\n",
       "      <td>0.119948</td>\n",
       "    </tr>\n",
       "    <tr>\n",
       "      <th>716</th>\n",
       "      <td>40</td>\n",
       "      <td>18.943207</td>\n",
       "      <td>3</td>\n",
       "      <td>3.719247e-01</td>\n",
       "      <td>0.100</td>\n",
       "      <td>3</td>\n",
       "      <td>4</td>\n",
       "      <td>5.421276</td>\n",
       "      <td>Polynomial{true, Float64}[0.30587926341954474x...</td>\n",
       "      <td>160</td>\n",
       "      <td>18.943207</td>\n",
       "      <td>5.421276</td>\n",
       "      <td>0.371925</td>\n",
       "    </tr>\n",
       "    <tr>\n",
       "      <th>717</th>\n",
       "      <td>40</td>\n",
       "      <td>21.631140</td>\n",
       "      <td>4</td>\n",
       "      <td>1.657934e+00</td>\n",
       "      <td>0.100</td>\n",
       "      <td>3</td>\n",
       "      <td>4</td>\n",
       "      <td>7.447200</td>\n",
       "      <td>Polynomial{true, Float64}[0.021963610881290247...</td>\n",
       "      <td>160</td>\n",
       "      <td>21.631140</td>\n",
       "      <td>7.447200</td>\n",
       "      <td>1.657934</td>\n",
       "    </tr>\n",
       "    <tr>\n",
       "      <th>718</th>\n",
       "      <td>40</td>\n",
       "      <td>34.419360</td>\n",
       "      <td>5</td>\n",
       "      <td>1.694274e+01</td>\n",
       "      <td>0.100</td>\n",
       "      <td>3</td>\n",
       "      <td>4</td>\n",
       "      <td>8.139790</td>\n",
       "      <td>Polynomial{true, Float64}[-16.28346100561984x₁...</td>\n",
       "      <td>160</td>\n",
       "      <td>34.419360</td>\n",
       "      <td>8.139790</td>\n",
       "      <td>16.942738</td>\n",
       "    </tr>\n",
       "    <tr>\n",
       "      <th>719</th>\n",
       "      <td>40</td>\n",
       "      <td>30.628293</td>\n",
       "      <td>6</td>\n",
       "      <td>1.336273e+02</td>\n",
       "      <td>0.100</td>\n",
       "      <td>3</td>\n",
       "      <td>4</td>\n",
       "      <td>7.793658</td>\n",
       "      <td>Polynomial{true, Float64}[-59.66373528692704x₁...</td>\n",
       "      <td>160</td>\n",
       "      <td>30.628293</td>\n",
       "      <td>7.793658</td>\n",
       "      <td>100.000000</td>\n",
       "    </tr>\n",
       "  </tbody>\n",
       "</table>\n",
       "<p>720 rows × 13 columns</p>\n",
       "</div>"
      ],
      "text/plain": [
       "     num_samples       test  deg           box  noise_level  side_info  \\\n",
       "0             10        NaN    2  1.317756e+02        0.001          0   \n",
       "1             10        NaN    3  1.449294e+07        0.001          0   \n",
       "2             10        NaN    4  3.057689e+03        0.001          0   \n",
       "3             10        NaN    5  1.390203e+03        0.001          0   \n",
       "4             10        NaN    6  7.570635e+02        0.001          0   \n",
       "..           ...        ...  ...           ...          ...        ...   \n",
       "715           40  16.829563    2  1.199480e-01        0.100          3   \n",
       "716           40  18.943207    3  3.719247e-01        0.100          3   \n",
       "717           40  21.631140    4  1.657934e+00        0.100          3   \n",
       "718           40  34.419360    5  1.694274e+01        0.100          3   \n",
       "719           40  30.628293    6  1.336273e+02        0.100          3   \n",
       "\n",
       "     num_trajectories  training  \\\n",
       "0                   1       NaN   \n",
       "1                   1       NaN   \n",
       "2                   1       NaN   \n",
       "3                   1       NaN   \n",
       "4                   1       NaN   \n",
       "..                ...       ...   \n",
       "715                 4  6.740353   \n",
       "716                 4  5.421276   \n",
       "717                 4  7.447200   \n",
       "718                 4  8.139790   \n",
       "719                 4  7.793658   \n",
       "\n",
       "                                             learned_p  samples  test_maxed  \\\n",
       "0    Polynomial{true, Float64}[-50.034792957039684x...       10  100.000000   \n",
       "1    Polynomial{true, Float64}[-2.422981044568624e6...       10  100.000000   \n",
       "2    Polynomial{true, Float64}[-5151.379407986941x₁...       10  100.000000   \n",
       "3    Polynomial{true, Float64}[-792.5643154741933x₁...       10  100.000000   \n",
       "4    Polynomial{true, Float64}[67.00458752891342x₁⁶...       10  100.000000   \n",
       "..                                                 ...      ...         ...   \n",
       "715  Polynomial{true, Float64}[-0.07353000784774236...      160   16.829563   \n",
       "716  Polynomial{true, Float64}[0.30587926341954474x...      160   18.943207   \n",
       "717  Polynomial{true, Float64}[0.021963610881290247...      160   21.631140   \n",
       "718  Polynomial{true, Float64}[-16.28346100561984x₁...      160   34.419360   \n",
       "719  Polynomial{true, Float64}[-59.66373528692704x₁...      160   30.628293   \n",
       "\n",
       "     training_maxed   box_maxed  \n",
       "0        100.000000  100.000000  \n",
       "1        100.000000  100.000000  \n",
       "2        100.000000  100.000000  \n",
       "3        100.000000  100.000000  \n",
       "4        100.000000  100.000000  \n",
       "..              ...         ...  \n",
       "715        6.740353    0.119948  \n",
       "716        5.421276    0.371925  \n",
       "717        7.447200    1.657934  \n",
       "718        8.139790   16.942738  \n",
       "719        7.793658  100.000000  \n",
       "\n",
       "[720 rows x 13 columns]"
      ]
     },
     "execution_count": 40,
     "metadata": {},
     "output_type": "execute_result"
    }
   ],
   "source": [
    "results_disease[[]]"
   ]
  }
 ],
 "metadata": {
  "kernelspec": {
   "display_name": "Python 3 (ipykernel)",
   "language": "python",
   "name": "python3"
  },
  "language_info": {
   "codemirror_mode": {
    "name": "ipython",
    "version": 3
   },
   "file_extension": ".py",
   "mimetype": "text/x-python",
   "name": "python",
   "nbconvert_exporter": "python",
   "pygments_lexer": "ipython3",
   "version": "3.9.5"
  }
 },
 "nbformat": 4,
 "nbformat_minor": 5
}
