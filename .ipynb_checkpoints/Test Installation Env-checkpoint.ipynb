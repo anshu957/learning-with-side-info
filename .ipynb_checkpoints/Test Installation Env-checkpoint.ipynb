{
 "cells": [
  {
   "cell_type": "code",
   "execution_count": null,
   "id": "e526b23a",
   "metadata": {},
   "outputs": [],
   "source": [
    ";cd \"/Users/bachirelkhadir/Documents/GitHub/learning-with-side-info/\""
   ]
  },
  {
   "cell_type": "code",
   "execution_count": null,
   "id": "2fc60247",
   "metadata": {},
   "outputs": [],
   "source": [
    "]activate learning_ds"
   ]
  },
  {
   "cell_type": "code",
   "execution_count": null,
   "id": "899c29a9",
   "metadata": {},
   "outputs": [],
   "source": []
  }
 ],
 "metadata": {
  "kernelspec": {
   "display_name": "Julia 1.6.3",
   "language": "julia",
   "name": "julia-1.6"
  }
 },
 "nbformat": 4,
 "nbformat_minor": 5
}
